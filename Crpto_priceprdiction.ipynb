{
 "cells": [
  {
   "cell_type": "code",
   "execution_count": 1,
   "metadata": {},
   "outputs": [
    {
     "name": "stdout",
     "output_type": "stream",
     "text": [
      "Collecting pandas-datareader\n",
      "  Downloading pandas_datareader-0.10.0-py3-none-any.whl (109 kB)\n",
      "     -------------------------------------- 109.5/109.5 kB 6.6 MB/s eta 0:00:00\n",
      "Collecting lxml\n",
      "  Downloading lxml-4.9.1-cp310-cp310-win_amd64.whl (3.6 MB)\n",
      "     ---------------------------------------- 3.6/3.6 MB 32.8 MB/s eta 0:00:00\n",
      "Collecting pandas>=0.23\n",
      "  Downloading pandas-1.5.1-cp310-cp310-win_amd64.whl (10.4 MB)\n",
      "     --------------------------------------- 10.4/10.4 MB 21.1 MB/s eta 0:00:00\n",
      "Requirement already satisfied: requests>=2.19.0 in c:\\users\\tnish\\appdata\\local\\packages\\pythonsoftwarefoundation.python.3.10_qbz5n2kfra8p0\\localcache\\local-packages\\python310\\site-packages (from pandas-datareader) (2.28.1)\n",
      "Requirement already satisfied: python-dateutil>=2.8.1 in c:\\users\\tnish\\appdata\\local\\packages\\pythonsoftwarefoundation.python.3.10_qbz5n2kfra8p0\\localcache\\local-packages\\python310\\site-packages (from pandas>=0.23->pandas-datareader) (2.8.2)\n",
      "Collecting numpy>=1.21.0\n",
      "  Downloading numpy-1.23.5-cp310-cp310-win_amd64.whl (14.6 MB)\n",
      "     --------------------------------------- 14.6/14.6 MB 17.2 MB/s eta 0:00:00\n",
      "Requirement already satisfied: pytz>=2020.1 in c:\\users\\tnish\\appdata\\local\\packages\\pythonsoftwarefoundation.python.3.10_qbz5n2kfra8p0\\localcache\\local-packages\\python310\\site-packages (from pandas>=0.23->pandas-datareader) (2022.5)\n",
      "Requirement already satisfied: idna<4,>=2.5 in c:\\users\\tnish\\appdata\\local\\packages\\pythonsoftwarefoundation.python.3.10_qbz5n2kfra8p0\\localcache\\local-packages\\python310\\site-packages (from requests>=2.19.0->pandas-datareader) (3.4)\n",
      "Requirement already satisfied: charset-normalizer<3,>=2 in c:\\users\\tnish\\appdata\\local\\packages\\pythonsoftwarefoundation.python.3.10_qbz5n2kfra8p0\\localcache\\local-packages\\python310\\site-packages (from requests>=2.19.0->pandas-datareader) (2.1.1)\n",
      "Requirement already satisfied: certifi>=2017.4.17 in c:\\users\\tnish\\appdata\\local\\packages\\pythonsoftwarefoundation.python.3.10_qbz5n2kfra8p0\\localcache\\local-packages\\python310\\site-packages (from requests>=2.19.0->pandas-datareader) (2022.9.24)\n",
      "Requirement already satisfied: urllib3<1.27,>=1.21.1 in c:\\users\\tnish\\appdata\\local\\packages\\pythonsoftwarefoundation.python.3.10_qbz5n2kfra8p0\\localcache\\local-packages\\python310\\site-packages (from requests>=2.19.0->pandas-datareader) (1.26.12)\n",
      "Requirement already satisfied: six>=1.5 in c:\\users\\tnish\\appdata\\local\\packages\\pythonsoftwarefoundation.python.3.10_qbz5n2kfra8p0\\localcache\\local-packages\\python310\\site-packages (from python-dateutil>=2.8.1->pandas>=0.23->pandas-datareader) (1.16.0)\n",
      "Installing collected packages: numpy, lxml, pandas, pandas-datareader\n",
      "Successfully installed lxml-4.9.1 numpy-1.23.5 pandas-1.5.1 pandas-datareader-0.10.0\n",
      "Note: you may need to restart the kernel to use updated packages.\n"
     ]
    },
    {
     "name": "stderr",
     "output_type": "stream",
     "text": [
      "  WARNING: The script f2py.exe is installed in 'C:\\Users\\tnish\\AppData\\Local\\Packages\\PythonSoftwareFoundation.Python.3.10_qbz5n2kfra8p0\\LocalCache\\local-packages\\Python310\\Scripts' which is not on PATH.\n",
      "  Consider adding this directory to PATH or, if you prefer to suppress this warning, use --no-warn-script-location.\n",
      "\n",
      "[notice] A new release of pip available: 22.3 -> 22.3.1\n",
      "[notice] To update, run: C:\\Users\\tnish\\AppData\\Local\\Microsoft\\WindowsApps\\PythonSoftwareFoundation.Python.3.10_qbz5n2kfra8p0\\python.exe -m pip install --upgrade pip\n"
     ]
    }
   ],
   "source": [
    "pip install --upgrade pandas-datareader"
   ]
  },
  {
   "cell_type": "code",
   "execution_count": 4,
   "metadata": {},
   "outputs": [],
   "source": [
    "import numpy as np\n",
    "import matplotlib.pyplot as plt\n",
    "import pandas as pd\n",
    "import pandas_datareader as web\n",
    "import datetime as dt\n",
    "from sklearn.preprocessing import MinMaxScaler\n",
    "from tensorflow.keras.layers import Dense, Dropout, LSTM\n",
    "from tensorflow.keras.models import Sequential\n",
    "from tensorflow.python.keras.backend import shape"
   ]
  },
  {
   "cell_type": "code",
   "execution_count": 5,
   "metadata": {},
   "outputs": [
    {
     "name": "stdout",
     "output_type": "stream",
     "text": [
      "Epoch 1/25\n",
      "76/76 [==============================] - 7s 42ms/step - loss: 0.0141\n",
      "Epoch 2/25\n",
      "76/76 [==============================] - 3s 42ms/step - loss: 0.0082\n",
      "Epoch 3/25\n",
      "76/76 [==============================] - 3s 43ms/step - loss: 0.0072\n",
      "Epoch 4/25\n",
      "76/76 [==============================] - 3s 41ms/step - loss: 0.0077\n",
      "Epoch 5/25\n",
      "76/76 [==============================] - 3s 41ms/step - loss: 0.0075\n",
      "Epoch 6/25\n",
      "76/76 [==============================] - 3s 42ms/step - loss: 0.0069\n",
      "Epoch 7/25\n",
      "76/76 [==============================] - 3s 43ms/step - loss: 0.0065\n",
      "Epoch 8/25\n",
      "76/76 [==============================] - 3s 42ms/step - loss: 0.0063\n",
      "Epoch 9/25\n",
      "76/76 [==============================] - 3s 42ms/step - loss: 0.0062\n",
      "Epoch 10/25\n",
      "76/76 [==============================] - 3s 41ms/step - loss: 0.0063\n",
      "Epoch 11/25\n",
      "76/76 [==============================] - 3s 44ms/step - loss: 0.0056\n",
      "Epoch 12/25\n",
      "76/76 [==============================] - 3s 42ms/step - loss: 0.0061\n",
      "Epoch 13/25\n",
      "76/76 [==============================] - 3s 41ms/step - loss: 0.0064\n",
      "Epoch 14/25\n",
      "76/76 [==============================] - 3s 41ms/step - loss: 0.0062\n",
      "Epoch 15/25\n",
      "76/76 [==============================] - 3s 41ms/step - loss: 0.0059\n",
      "Epoch 16/25\n",
      "76/76 [==============================] - 3s 41ms/step - loss: 0.0059\n",
      "Epoch 17/25\n",
      "76/76 [==============================] - 3s 41ms/step - loss: 0.0060\n",
      "Epoch 18/25\n",
      "76/76 [==============================] - 3s 41ms/step - loss: 0.0060\n",
      "Epoch 19/25\n",
      "76/76 [==============================] - 3s 41ms/step - loss: 0.0057\n",
      "Epoch 20/25\n",
      "76/76 [==============================] - 3s 42ms/step - loss: 0.0057\n",
      "Epoch 21/25\n",
      "76/76 [==============================] - 3s 42ms/step - loss: 0.0057\n",
      "Epoch 22/25\n",
      "76/76 [==============================] - 3s 41ms/step - loss: 0.0056\n",
      "Epoch 23/25\n",
      "76/76 [==============================] - 3s 41ms/step - loss: 0.0057\n",
      "Epoch 24/25\n",
      "76/76 [==============================] - 3s 41ms/step - loss: 0.0052\n",
      "Epoch 25/25\n",
      "76/76 [==============================] - 3s 41ms/step - loss: 0.0053\n",
      "33/33 [==============================] - 1s 14ms/step\n"
     ]
    },
    {
     "data": {
      "image/png": "[encoded data removed]",
      "text/plain": [
       "<Figure size 640x480 with 1 Axes>"
      ]
     },
     "metadata": {},
     "output_type": "display_data"
    }
   ],
   "source": [
    "\n",
    "crypto_currency = \"BTC\"\n",
    "against_currency = \"USD\"\n",
    "\n",
    "#Start and end date for test data\n",
    "start = dt.datetime(2016, 1, 1)\n",
    "end = dt.datetime.now()\n",
    "\n",
    "\n",
    "data = web.DataReader(f\"{crypto_currency}-{against_currency}\", \"yahoo\", start, end)\n",
    "\n",
    "\n",
    "scaler = MinMaxScaler(feature_range=(0,1))\n",
    "scaled_data = scaler.fit_transform(data[\"Close\"].values.reshape(-1,1))\n",
    "\n",
    "#sets the number of days to be predicted and test data\n",
    "#looks at past [prediction_days] to predict\n",
    "prediction_days = 60\n",
    "future_day = 30\n",
    "\n",
    "\n",
    "x_train, y_train = [], []\n",
    "\n",
    "\n",
    "for x in range(prediction_days, len(scaled_data)-future_day):\n",
    "    x_train.append(scaled_data[x-prediction_days:x, 0])\n",
    "    y_train.append(scaled_data[x+future_day, 0])\n",
    "    \n",
    "\n",
    "x_train, y_train = np.array(x_train), np.array(y_train)\n",
    "x_train = np.reshape(x_train, (x_train.shape[0], x_train.shape[1], 1))\n",
    "\n",
    "\n",
    "model = Sequential()\n",
    "\n",
    "#LSTM layers for feeding data to neural network. Dropout layers to prevent overfitting\n",
    "model.add(LSTM(units=50, return_sequences=True, input_shape=(x_train.shape[1], 1)))\n",
    "model.add(Dropout(0.2))\n",
    "model.add(LSTM(units=50, return_sequences=True))\n",
    "model.add(Dropout(0.2))\n",
    "model.add(LSTM(units=50))\n",
    "model.add(Dropout(0.2))\n",
    "model.add(Dense(units=1))\n",
    "\n",
    "\n",
    "model.compile(optimizer=\"adam\", loss=\"mean_squared_error\")\n",
    "model.fit(x_train, y_train, epochs=25, batch_size=32)\n",
    "\n",
    "\n",
    "\n",
    "test_start = dt.datetime(2020, 1, 1)\n",
    "test_end = dt.datetime.now()\n",
    "\n",
    "test_data = web.DataReader(f\"{crypto_currency}-{against_currency}\", \"yahoo\", test_start, test_end)\n",
    "actual_prices = test_data[\"Close\"].values\n",
    "\n",
    "total_dataset = pd.concat((data[\"Close\"], test_data[\"Close\"]), axis=0)\n",
    "\n",
    "\n",
    "model_inputs = total_dataset[len(total_dataset) - len(test_data) - prediction_days:].values\n",
    "model_inputs = model_inputs.reshape(-1, 1)\n",
    "model_inputs = scaler.fit_transform(model_inputs)\n",
    "\n",
    "x_test = []\n",
    "\n",
    "for x in range(prediction_days, len(model_inputs)):\n",
    "    x_test.append(model_inputs[x-prediction_days:x, 0])\n",
    "\n",
    "x_test = np.array(x_test)\n",
    "x_test = np.reshape(x_test, (x_test.shape[0], x_test.shape[1], 1))\n",
    "\n",
    "#Predicts the prices using the model\n",
    "prediction_prices = model.predict(x_test)\n",
    "prediction_prices = scaler.inverse_transform(prediction_prices)\n",
    "\n",
    "#Plots them on a graph\n",
    "plt.plot(actual_prices, color=\"black\", label=\"Actual Prices\")\n",
    "plt.plot(prediction_prices, color=\"green\", label=\"Predicited Prices\")\n",
    "plt.title(f\"{crypto_currency} Price Prediction\")\n",
    "plt.xlabel(\"Time\")\n",
    "plt.ylabel(\"Price\")\n",
    "plt.show()\n",
    "\n",
    "#Predict next day\n",
    "\n",
    "real_data = [model_inputs[len(model_inputs) + 1 - prediction_days:len(model_inputs) + 1, 0]]\n",
    "read_data = np.array(real_data)"
   ]
  },
  {
   "cell_type": "code",
   "execution_count": 6,
   "metadata": {},
   "outputs": [],
   "source": [
    "real_data = np.asarray(real_data)"
   ]
  },
  {
   "cell_type": "code",
   "execution_count": 7,
   "metadata": {},
   "outputs": [
    {
     "name": "stdout",
     "output_type": "stream",
     "text": [
      "1/1 [==============================] - 1s 793ms/step\n",
      "[[16865.959]]\n"
     ]
    }
   ],
   "source": [
    "real_data = np.reshape(read_data, (real_data.shape[0], real_data.shape[1], 1))\n",
    "\n",
    "prediction = model.predict(real_data)\n",
    "prediction = scaler.inverse_transform(prediction)\n",
    "print(prediction)"
   ]
  },
  {
   "cell_type": "code",
   "execution_count": 8,
   "metadata": {},
   "outputs": [],
   "source": [
    "import pickle"
   ]
  },
  {
   "cell_type": "code",
   "execution_count": 10,
   "metadata": {},
   "outputs": [
    {
     "name": "stdout",
     "output_type": "stream",
     "text": [
      "Keras weights file (<HDF5 file \"variables.h5\" (mode r+)>) saving:\n",
      "...layers\\dense\n",
      "......vars\n",
      ".........0\n",
      ".........1\n",
      "...layers\\dropout\n",
      "......vars\n",
      "...layers\\dropout_1\n",
      "......vars\n",
      "...layers\\dropout_2\n",
      "......vars\n",
      "...layers\\lstm\n",
      "......vars\n",
      "...layers\\lstm\\cell\n",
      "......vars\n",
      ".........0\n",
      ".........1\n",
      ".........2\n",
      "...layers\\lstm_1\n",
      "......vars\n",
      "...layers\\lstm_1\\cell\n",
      "......vars\n",
      ".........0\n",
      ".........1\n",
      ".........2\n",
      "...layers\\lstm_2\n",
      "......vars\n",
      "...layers\\lstm_2\\cell\n",
      "......vars\n",
      ".........0\n",
      ".........1\n",
      ".........2\n",
      "...metrics\\mean\n",
      "......vars\n",
      ".........0\n",
      ".........1\n",
      "...optimizer\n",
      "......vars\n",
      ".........0\n",
      ".........1\n",
      ".........10\n",
      ".........11\n",
      ".........12\n",
      ".........13\n",
      ".........14\n",
      ".........15\n",
      ".........16\n",
      ".........17\n",
      ".........18\n",
      ".........19\n",
      ".........2\n",
      ".........20\n",
      ".........21\n",
      ".........22\n",
      ".........3\n",
      ".........4\n",
      ".........5\n",
      ".........6\n",
      ".........7\n",
      ".........8\n",
      ".........9\n",
      "...vars\n",
      "Keras model archive saving:\n",
      "File Name                                             Modified             Size\n",
      "config.json                                    2022-11-20 22:55:06         3902\n",
      "metadata.json                                  2022-11-20 22:55:06           64\n",
      "variables.h5                                   2022-11-20 22:55:06       648688\n"
     ]
    }
   ],
   "source": [
    "pickle.dump(model, open('model.pkl', 'wb'))"
   ]
  }
 ],
 "metadata": {
  "kernelspec": {
   "display_name": "Python 3.10.8 64-bit (microsoft store)",
   "language": "python",
   "name": "python3"
  },
  "language_info": {
   "codemirror_mode": {
    "name": "ipython",
    "version": 3
   },
   "file_extension": ".py",
   "mimetype": "text/x-python",
   "name": "python",
   "nbconvert_exporter": "python",
   "pygments_lexer": "ipython3",
   "version": "3.10.8"
  },
  "orig_nbformat": 4,
  "vscode": {
   "interpreter": {
    "hash": "69419369286f90106c380bbc1c47a0d17229dd8c0ff3d05cb5fd93397e6f9769"
   }
  }
 },
 "nbformat": 4,
 "nbformat_minor": 2
}
